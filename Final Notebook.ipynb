{
 "cells": [
  {
   "cell_type": "markdown",
   "metadata": {},
   "source": [
    "# Introduction"
   ]
  },
  {
   "cell_type": "markdown",
   "metadata": {},
   "source": [
    "**The goal of this project is to discover the best neighboorhood in Pittsburgh. For our approach, we determined the best neighborhood relies on our own personal satisfaction, and what we would personally find satisfying in our ideal neighborhood. Collectively, we determined that in the future, we don't want to live to be very old, for there are various negative effects associated with aging. 87% of older individuals want to stay in their own home for the rest of their life. Being able to age in a single place, is one of the fastest-growing trends for the senior living industry. Along these lines, there are multiple negative effects to consider: high medical cost to maintain healthiness, a growing feeling of loneliness, and days start to feel like routine. Exercise becomes painful, dating becomes difficult, we start to feel less attractive, and much more, causes life to become stagnant, creating boredom and an overall dissatisfying life. Therefore, we want to mitigate that, and find a neighborhood where we have the lowest possible chance of surviving into old age.**"
   ]
  },
  {
   "cell_type": "markdown",
   "metadata": {},
   "source": [
    "# The Metric"
   ]
  },
  {
   "cell_type": "markdown",
   "metadata": {},
   "source": [
    "**Our metric, as determined by what will lead us to the most satisfying life, is the neighborhood that prevents us from surviving into old age. In addition, due to the growing population of the world today, our death will also satisfy population control. Thus, the best neighborhood is one that doesn't kill us too soon, but doesn't kill us too much later in our life either. We want to be able to enjoy life without the negatives of old age. The datasets we chose are measuring COVID deaths, landslides, and median age of death, in each neighborhood of Pittsburgh.**"
   ]
  },
  {
   "cell_type": "markdown",
   "metadata": {},
   "source": [
    "# Covid Cases"
   ]
  },
  {
   "cell_type": "markdown",
   "metadata": {},
   "source": [
    "My group decided that in old age, since your immune system becomes less effective, you become more succeptible to illness and their harmful effects. Thus, if we don't want to live very long, a neighborhood with a high chance of us getting sick will help to end it. My dataset follows Allegheny County COVID-19 Tests, Cases, and Deaths, and is up to date as of March 28th 2022. Since my dataset has 12 different columns, I'll start by simplifying the information down to the columns that I wish to use. Therefore, I will group the neighborhoods with their listed infections, deaths, and hospitalizations counts. The more infections leads to a higher chance I will get sick, the more deaths means a higher chance I will die as intended, and the higher hospitalizations means the more severe the case."
   ]
  },
  {
   "cell_type": "code",
   "execution_count": 94,
   "metadata": {},
   "outputs": [
    {
     "data": {
      "text/html": [
       "<div>\n",
       "<style scoped>\n",
       "    .dataframe tbody tr th:only-of-type {\n",
       "        vertical-align: middle;\n",
       "    }\n",
       "\n",
       "    .dataframe tbody tr th {\n",
       "        vertical-align: top;\n",
       "    }\n",
       "\n",
       "    .dataframe thead th {\n",
       "        text-align: right;\n",
       "    }\n",
       "</style>\n",
       "<table border=\"1\" class=\"dataframe\">\n",
       "  <thead>\n",
       "    <tr style=\"text-align: right;\">\n",
       "      <th></th>\n",
       "      <th>infections</th>\n",
       "      <th>deaths</th>\n",
       "      <th>hospitalizations</th>\n",
       "    </tr>\n",
       "    <tr>\n",
       "      <th>neighborhood_municipality</th>\n",
       "      <th></th>\n",
       "      <th></th>\n",
       "      <th></th>\n",
       "    </tr>\n",
       "  </thead>\n",
       "  <tbody>\n",
       "    <tr>\n",
       "      <th>Aleppo</th>\n",
       "      <td>1</td>\n",
       "      <td>1</td>\n",
       "      <td>1</td>\n",
       "    </tr>\n",
       "    <tr>\n",
       "      <th>Allegheny Center (Pittsburgh)</th>\n",
       "      <td>1</td>\n",
       "      <td>1</td>\n",
       "      <td>1</td>\n",
       "    </tr>\n",
       "    <tr>\n",
       "      <th>Allegheny West (Pittsburgh)</th>\n",
       "      <td>1</td>\n",
       "      <td>1</td>\n",
       "      <td>1</td>\n",
       "    </tr>\n",
       "    <tr>\n",
       "      <th>Allentown (Pittsburgh)</th>\n",
       "      <td>1</td>\n",
       "      <td>1</td>\n",
       "      <td>1</td>\n",
       "    </tr>\n",
       "    <tr>\n",
       "      <th>Arlington (Pittsburgh)</th>\n",
       "      <td>1</td>\n",
       "      <td>1</td>\n",
       "      <td>1</td>\n",
       "    </tr>\n",
       "    <tr>\n",
       "      <th>Arlington Heights (Pittsburgh)</th>\n",
       "      <td>1</td>\n",
       "      <td>1</td>\n",
       "      <td>1</td>\n",
       "    </tr>\n",
       "    <tr>\n",
       "      <th>Aspinwall</th>\n",
       "      <td>1</td>\n",
       "      <td>1</td>\n",
       "      <td>1</td>\n",
       "    </tr>\n",
       "    <tr>\n",
       "      <th>Avalon</th>\n",
       "      <td>1</td>\n",
       "      <td>1</td>\n",
       "      <td>1</td>\n",
       "    </tr>\n",
       "    <tr>\n",
       "      <th>Baldwin Borough</th>\n",
       "      <td>1</td>\n",
       "      <td>1</td>\n",
       "      <td>1</td>\n",
       "    </tr>\n",
       "    <tr>\n",
       "      <th>Baldwin Township</th>\n",
       "      <td>1</td>\n",
       "      <td>1</td>\n",
       "      <td>1</td>\n",
       "    </tr>\n",
       "  </tbody>\n",
       "</table>\n",
       "</div>"
      ],
      "text/plain": [
       "                                infections  deaths  hospitalizations\n",
       "neighborhood_municipality                                           \n",
       "Aleppo                                   1       1                 1\n",
       "Allegheny Center (Pittsburgh)            1       1                 1\n",
       "Allegheny West (Pittsburgh)              1       1                 1\n",
       "Allentown (Pittsburgh)                   1       1                 1\n",
       "Arlington (Pittsburgh)                   1       1                 1\n",
       "Arlington Heights (Pittsburgh)           1       1                 1\n",
       "Aspinwall                                1       1                 1\n",
       "Avalon                                   1       1                 1\n",
       "Baldwin Borough                          1       1                 1\n",
       "Baldwin Township                         1       1                 1"
      ]
     },
     "execution_count": 94,
     "metadata": {},
     "output_type": "execute_result"
    }
   ],
   "source": [
    "import pandas as pd\n",
    "import numpy as np\n",
    "%matplotlib inline\n",
    "\n",
    "cov = pd.read_csv(\"CovidCases.csv\",usecols = ['neighborhood_municipality','infections','deaths','hospitalizations'])\n",
    "\n",
    "cov.groupby('neighborhood_municipality').count().head(10)"
   ]
  },
  {
   "cell_type": "markdown",
   "metadata": {},
   "source": [
    "This table isn't very organized to our needs, for it only shows the neighborhoods in order, so the neighborhoods with the lowest counts are appearing here. Next, I will gather the 20 neighborhoods with the highest death count, since us dying is ultimately the main goal. "
   ]
  },
  {
   "cell_type": "code",
   "execution_count": 95,
   "metadata": {},
   "outputs": [
    {
     "data": {
      "text/html": [
       "<div>\n",
       "<style scoped>\n",
       "    .dataframe tbody tr th:only-of-type {\n",
       "        vertical-align: middle;\n",
       "    }\n",
       "\n",
       "    .dataframe tbody tr th {\n",
       "        vertical-align: top;\n",
       "    }\n",
       "\n",
       "    .dataframe thead th {\n",
       "        text-align: right;\n",
       "    }\n",
       "</style>\n",
       "<table border=\"1\" class=\"dataframe\">\n",
       "  <thead>\n",
       "    <tr style=\"text-align: right;\">\n",
       "      <th></th>\n",
       "      <th>neighborhood_municipality</th>\n",
       "      <th>infections</th>\n",
       "      <th>deaths</th>\n",
       "      <th>hospitalizations</th>\n",
       "    </tr>\n",
       "  </thead>\n",
       "  <tbody>\n",
       "    <tr>\n",
       "      <th>162</th>\n",
       "      <td>Ross</td>\n",
       "      <td>6471</td>\n",
       "      <td>137</td>\n",
       "      <td>349</td>\n",
       "    </tr>\n",
       "    <tr>\n",
       "      <th>122</th>\n",
       "      <td>Monroeville</td>\n",
       "      <td>6181</td>\n",
       "      <td>131</td>\n",
       "      <td>455</td>\n",
       "    </tr>\n",
       "    <tr>\n",
       "      <th>116</th>\n",
       "      <td>McCandless</td>\n",
       "      <td>5280</td>\n",
       "      <td>130</td>\n",
       "      <td>221</td>\n",
       "    </tr>\n",
       "    <tr>\n",
       "      <th>144</th>\n",
       "      <td>Penn Hills</td>\n",
       "      <td>8051</td>\n",
       "      <td>107</td>\n",
       "      <td>586</td>\n",
       "    </tr>\n",
       "    <tr>\n",
       "      <th>119</th>\n",
       "      <td>McKeesport</td>\n",
       "      <td>4260</td>\n",
       "      <td>106</td>\n",
       "      <td>438</td>\n",
       "    </tr>\n",
       "    <tr>\n",
       "      <th>18</th>\n",
       "      <td>Bethel Park</td>\n",
       "      <td>7059</td>\n",
       "      <td>95</td>\n",
       "      <td>269</td>\n",
       "    </tr>\n",
       "    <tr>\n",
       "      <th>125</th>\n",
       "      <td>Mount Lebanon</td>\n",
       "      <td>6321</td>\n",
       "      <td>89</td>\n",
       "      <td>195</td>\n",
       "    </tr>\n",
       "    <tr>\n",
       "      <th>164</th>\n",
       "      <td>Scott</td>\n",
       "      <td>3761</td>\n",
       "      <td>83</td>\n",
       "      <td>146</td>\n",
       "    </tr>\n",
       "    <tr>\n",
       "      <th>8</th>\n",
       "      <td>Baldwin Borough</td>\n",
       "      <td>5011</td>\n",
       "      <td>73</td>\n",
       "      <td>294</td>\n",
       "    </tr>\n",
       "    <tr>\n",
       "      <th>151</th>\n",
       "      <td>Plum</td>\n",
       "      <td>5356</td>\n",
       "      <td>70</td>\n",
       "      <td>268</td>\n",
       "    </tr>\n",
       "  </tbody>\n",
       "</table>\n",
       "</div>"
      ],
      "text/plain": [
       "    neighborhood_municipality  infections  deaths  hospitalizations\n",
       "162                      Ross        6471     137               349\n",
       "122               Monroeville        6181     131               455\n",
       "116                McCandless        5280     130               221\n",
       "144                Penn Hills        8051     107               586\n",
       "119                McKeesport        4260     106               438\n",
       "18                Bethel Park        7059      95               269\n",
       "125             Mount Lebanon        6321      89               195\n",
       "164                     Scott        3761      83               146\n",
       "8             Baldwin Borough        5011      73               294\n",
       "151                      Plum        5356      70               268"
      ]
     },
     "execution_count": 95,
     "metadata": {},
     "output_type": "execute_result"
    }
   ],
   "source": [
    "highDeaths = cov.nlargest(20,['deaths'])\n",
    "\n",
    "highDeaths.head(10)"
   ]
  },
  {
   "cell_type": "markdown",
   "metadata": {},
   "source": [
    "Let's plot this as a bar graph to see exactly what the data is telling us:"
   ]
  },
  {
   "cell_type": "code",
   "execution_count": null,
   "metadata": {},
   "outputs": [],
   "source": []
  },
  {
   "cell_type": "code",
   "execution_count": 19,
   "metadata": {},
   "outputs": [
    {
     "data": {
      "text/plain": [
       "<matplotlib.axes._subplots.AxesSubplot at 0x7f843a3a1910>"
      ]
     },
     "execution_count": 19,
     "metadata": {},
     "output_type": "execute_result"
    },
    {
     "data": {
      "image/png": "[encoded data removed]",
      "text/plain": [
       "<Figure size 432x288 with 1 Axes>"
      ]
     },
     "metadata": {
      "needs_background": "light"
     },
     "output_type": "display_data"
    }
   ],
   "source": [
    "highDeaths.plot(x = 'neighborhood_municipality',y = 'deaths', kind = 'bar')"
   ]
  },
  {
   "cell_type": "markdown",
   "metadata": {},
   "source": [
    "**Risk Of Death**"
   ]
  },
  {
   "cell_type": "markdown",
   "metadata": {},
   "source": [
    "There! As the graph shows, Ross is the best neighborhood in regards to chance of dying. However, that isn't the only factor we want to take into account here. Overall, we want to know which neighborhood has the highest risk of illness and death combined. A high amount of deaths isn't too important if our chance of getting sick is low itself, and if the high death count is only due to a large population. Thus, lets create a new column called \"risk_of_death\". This column will include the total of infections, deaths, and hospitalizations out of the neighborhoods with the highest death count. Then, I'll sort the values in descending order, getting the 10 neighborhoods with the highest risk_of_death at the top."
   ]
  },
  {
   "cell_type": "code",
   "execution_count": 96,
   "metadata": {},
   "outputs": [
    {
     "data": {
      "text/html": [
       "<div>\n",
       "<style scoped>\n",
       "    .dataframe tbody tr th:only-of-type {\n",
       "        vertical-align: middle;\n",
       "    }\n",
       "\n",
       "    .dataframe tbody tr th {\n",
       "        vertical-align: top;\n",
       "    }\n",
       "\n",
       "    .dataframe thead th {\n",
       "        text-align: right;\n",
       "    }\n",
       "</style>\n",
       "<table border=\"1\" class=\"dataframe\">\n",
       "  <thead>\n",
       "    <tr style=\"text-align: right;\">\n",
       "      <th></th>\n",
       "      <th>neighborhood_municipality</th>\n",
       "      <th>infections</th>\n",
       "      <th>deaths</th>\n",
       "      <th>hospitalizations</th>\n",
       "      <th>risk_of_death</th>\n",
       "    </tr>\n",
       "  </thead>\n",
       "  <tbody>\n",
       "    <tr>\n",
       "      <th>144</th>\n",
       "      <td>Penn Hills</td>\n",
       "      <td>8051</td>\n",
       "      <td>107</td>\n",
       "      <td>586</td>\n",
       "      <td>8744</td>\n",
       "    </tr>\n",
       "    <tr>\n",
       "      <th>18</th>\n",
       "      <td>Bethel Park</td>\n",
       "      <td>7059</td>\n",
       "      <td>95</td>\n",
       "      <td>269</td>\n",
       "      <td>7423</td>\n",
       "    </tr>\n",
       "    <tr>\n",
       "      <th>162</th>\n",
       "      <td>Ross</td>\n",
       "      <td>6471</td>\n",
       "      <td>137</td>\n",
       "      <td>349</td>\n",
       "      <td>6957</td>\n",
       "    </tr>\n",
       "    <tr>\n",
       "      <th>122</th>\n",
       "      <td>Monroeville</td>\n",
       "      <td>6181</td>\n",
       "      <td>131</td>\n",
       "      <td>455</td>\n",
       "      <td>6767</td>\n",
       "    </tr>\n",
       "    <tr>\n",
       "      <th>125</th>\n",
       "      <td>Mount Lebanon</td>\n",
       "      <td>6321</td>\n",
       "      <td>89</td>\n",
       "      <td>195</td>\n",
       "      <td>6605</td>\n",
       "    </tr>\n",
       "    <tr>\n",
       "      <th>123</th>\n",
       "      <td>Moon</td>\n",
       "      <td>5667</td>\n",
       "      <td>53</td>\n",
       "      <td>184</td>\n",
       "      <td>5904</td>\n",
       "    </tr>\n",
       "    <tr>\n",
       "      <th>169</th>\n",
       "      <td>Shaler</td>\n",
       "      <td>5493</td>\n",
       "      <td>52</td>\n",
       "      <td>258</td>\n",
       "      <td>5803</td>\n",
       "    </tr>\n",
       "    <tr>\n",
       "      <th>151</th>\n",
       "      <td>Plum</td>\n",
       "      <td>5356</td>\n",
       "      <td>70</td>\n",
       "      <td>268</td>\n",
       "      <td>5694</td>\n",
       "    </tr>\n",
       "    <tr>\n",
       "      <th>116</th>\n",
       "      <td>McCandless</td>\n",
       "      <td>5280</td>\n",
       "      <td>130</td>\n",
       "      <td>221</td>\n",
       "      <td>5631</td>\n",
       "    </tr>\n",
       "    <tr>\n",
       "      <th>8</th>\n",
       "      <td>Baldwin Borough</td>\n",
       "      <td>5011</td>\n",
       "      <td>73</td>\n",
       "      <td>294</td>\n",
       "      <td>5378</td>\n",
       "    </tr>\n",
       "  </tbody>\n",
       "</table>\n",
       "</div>"
      ],
      "text/plain": [
       "    neighborhood_municipality  infections  deaths  hospitalizations  \\\n",
       "144                Penn Hills        8051     107               586   \n",
       "18                Bethel Park        7059      95               269   \n",
       "162                      Ross        6471     137               349   \n",
       "122               Monroeville        6181     131               455   \n",
       "125             Mount Lebanon        6321      89               195   \n",
       "123                      Moon        5667      53               184   \n",
       "169                    Shaler        5493      52               258   \n",
       "151                      Plum        5356      70               268   \n",
       "116                McCandless        5280     130               221   \n",
       "8             Baldwin Borough        5011      73               294   \n",
       "\n",
       "     risk_of_death  \n",
       "144           8744  \n",
       "18            7423  \n",
       "162           6957  \n",
       "122           6767  \n",
       "125           6605  \n",
       "123           5904  \n",
       "169           5803  \n",
       "151           5694  \n",
       "116           5631  \n",
       "8             5378  "
      ]
     },
     "execution_count": 96,
     "metadata": {},
     "output_type": "execute_result"
    }
   ],
   "source": [
    "totalRisk = highDeaths['infections'] + highDeaths['hospitalizations'] + highDeaths['deaths']\n",
    "\n",
    "highDeaths['risk_of_death'] = totalRisk\n",
    "\n",
    "highDeaths = highDeaths.sort_values('risk_of_death',ascending = False).head(10)\n",
    "\n",
    "highDeaths"
   ]
  },
  {
   "cell_type": "markdown",
   "metadata": {},
   "source": [
    "Let's plot the 10 neighborhoods as a bar chart to effectively see the distribution:"
   ]
  },
  {
   "cell_type": "code",
   "execution_count": 63,
   "metadata": {},
   "outputs": [
    {
     "data": {
      "text/plain": [
       "<matplotlib.axes._subplots.AxesSubplot at 0x7f843b3573d0>"
      ]
     },
     "execution_count": 63,
     "metadata": {},
     "output_type": "execute_result"
    },
    {
     "data": {
      "image/png": "[encoded data removed]",
      "text/plain": [
       "<Figure size 432x288 with 1 Axes>"
      ]
     },
     "metadata": {
      "needs_background": "light"
     },
     "output_type": "display_data"
    }
   ],
   "source": [
    "risk_counter = pd.DataFrame(highDeaths, columns = ['neighborhood_municipality','risk_of_death'])\n",
    "risk_counter.plot(x = 'neighborhood_municipality',y= 'risk_of_death',kind = 'bar')"
   ]
  },
  {
   "cell_type": "markdown",
   "metadata": {},
   "source": [
    "Let's plot as a scatter plot as well:"
   ]
  },
  {
   "cell_type": "code",
   "execution_count": 22,
   "metadata": {},
   "outputs": [
    {
     "data": {
      "text/plain": [
       "<matplotlib.axes._subplots.AxesSubplot at 0x7f843b9d1880>"
      ]
     },
     "execution_count": 22,
     "metadata": {},
     "output_type": "execute_result"
    },
    {
     "data": {
      "image/png": "[encoded data removed]",
      "text/plain": [
       "<Figure size 432x288 with 1 Axes>"
      ]
     },
     "metadata": {
      "needs_background": "light"
     },
     "output_type": "display_data"
    }
   ],
   "source": [
    "risk_counter.plot(x = 'risk_of_death',y= 'neighborhood_municipality',kind = 'scatter')"
   ]
  },
  {
   "cell_type": "markdown",
   "metadata": {},
   "source": [
    "**Conclusion of Dataset**"
   ]
  },
  {
   "cell_type": "markdown",
   "metadata": {},
   "source": [
    "As the data shows, **Penn Hills has the highests risk_of_death count (8744)** out of the 20 neighborhoods with the highest death, ultimately making it the highest chance of us getting sick and dying in our old age. Even with just taking deaths into account, Penn Hills is the 4th highest for amount of deaths due to illness."
   ]
  },
  {
   "cell_type": "markdown",
   "metadata": {},
   "source": [
    "# Median Age of Death"
   ]
  },
  {
   "cell_type": "markdown",
   "metadata": {},
   "source": [
    "<b> One way we decided to measure better is using the median age at death by neighborhood, because we want to die sooner in our life rather than later. Therefore, the lower the median age of death, the better the neighborhood overall.\n",
    "\n",
    "First, lets open the data and and display it in a nice table. "
   ]
  },
  {
   "cell_type": "code",
   "execution_count": 86,
   "metadata": {},
   "outputs": [
    {
     "data": {
      "text/html": [
       "<div>\n",
       "<style scoped>\n",
       "    .dataframe tbody tr th:only-of-type {\n",
       "        vertical-align: middle;\n",
       "    }\n",
       "\n",
       "    .dataframe tbody tr th {\n",
       "        vertical-align: top;\n",
       "    }\n",
       "\n",
       "    .dataframe thead th {\n",
       "        text-align: right;\n",
       "    }\n",
       "</style>\n",
       "<table border=\"1\" class=\"dataframe\">\n",
       "  <thead>\n",
       "    <tr style=\"text-align: right;\">\n",
       "      <th></th>\n",
       "      <th>NEIGHBORHOOD</th>\n",
       "      <th>TOTAL MD AGE AT DEATH</th>\n",
       "    </tr>\n",
       "  </thead>\n",
       "  <tbody>\n",
       "    <tr>\n",
       "      <th>0</th>\n",
       "      <td>SOUTH SHORE</td>\n",
       "      <td>0.0</td>\n",
       "    </tr>\n",
       "    <tr>\n",
       "      <th>1</th>\n",
       "      <td>CHATEAU</td>\n",
       "      <td>NaN</td>\n",
       "    </tr>\n",
       "    <tr>\n",
       "      <th>2</th>\n",
       "      <td>NORTH SHORE</td>\n",
       "      <td>80.0</td>\n",
       "    </tr>\n",
       "    <tr>\n",
       "      <th>3</th>\n",
       "      <td>ALLEGHENY WEST</td>\n",
       "      <td>65.0</td>\n",
       "    </tr>\n",
       "    <tr>\n",
       "      <th>4</th>\n",
       "      <td>SAINT CLAIR</td>\n",
       "      <td>67.5</td>\n",
       "    </tr>\n",
       "    <tr>\n",
       "      <th>5</th>\n",
       "      <td>WEST END</td>\n",
       "      <td>77.5</td>\n",
       "    </tr>\n",
       "    <tr>\n",
       "      <th>6</th>\n",
       "      <td>ESPLEN</td>\n",
       "      <td>71.7</td>\n",
       "    </tr>\n",
       "    <tr>\n",
       "      <th>7</th>\n",
       "      <td>ARLINGTON HEIGHTS</td>\n",
       "      <td>63.7</td>\n",
       "    </tr>\n",
       "    <tr>\n",
       "      <th>8</th>\n",
       "      <td>STRIP DISTRICT</td>\n",
       "      <td>72.5</td>\n",
       "    </tr>\n",
       "    <tr>\n",
       "      <th>9</th>\n",
       "      <td>FAIRYWOOD</td>\n",
       "      <td>53.3</td>\n",
       "    </tr>\n",
       "    <tr>\n",
       "      <th>10</th>\n",
       "      <td>HAYS</td>\n",
       "      <td>78.3</td>\n",
       "    </tr>\n",
       "    <tr>\n",
       "      <th>11</th>\n",
       "      <td>MOUNT OLIVER NEIGHBORHOOD</td>\n",
       "      <td>75.0</td>\n",
       "    </tr>\n",
       "    <tr>\n",
       "      <th>12</th>\n",
       "      <td>EAST CARNEGIE</td>\n",
       "      <td>80.0</td>\n",
       "    </tr>\n",
       "    <tr>\n",
       "      <th>13</th>\n",
       "      <td>REGENT SQUARE</td>\n",
       "      <td>76.7</td>\n",
       "    </tr>\n",
       "    <tr>\n",
       "      <th>14</th>\n",
       "      <td>CALIFORNIA-KIRKBRIDE</td>\n",
       "      <td>69.3</td>\n",
       "    </tr>\n",
       "    <tr>\n",
       "      <th>15</th>\n",
       "      <td>CHARTIERS CITY</td>\n",
       "      <td>76.9</td>\n",
       "    </tr>\n",
       "    <tr>\n",
       "      <th>16</th>\n",
       "      <td>FRIENDSHIP</td>\n",
       "      <td>71.1</td>\n",
       "    </tr>\n",
       "    <tr>\n",
       "      <th>17</th>\n",
       "      <td>BLUFF</td>\n",
       "      <td>70.0</td>\n",
       "    </tr>\n",
       "    <tr>\n",
       "      <th>18</th>\n",
       "      <td>ALLEGHENY CENTER</td>\n",
       "      <td>81.7</td>\n",
       "    </tr>\n",
       "    <tr>\n",
       "      <th>19</th>\n",
       "      <td>BON AIR</td>\n",
       "      <td>78.5</td>\n",
       "    </tr>\n",
       "  </tbody>\n",
       "</table>\n",
       "</div>"
      ],
      "text/plain": [
       "                 NEIGHBORHOOD  TOTAL MD AGE AT DEATH\n",
       "0                 SOUTH SHORE                    0.0\n",
       "1                     CHATEAU                    NaN\n",
       "2                 NORTH SHORE                   80.0\n",
       "3              ALLEGHENY WEST                   65.0\n",
       "4                 SAINT CLAIR                   67.5\n",
       "5                    WEST END                   77.5\n",
       "6                      ESPLEN                   71.7\n",
       "7           ARLINGTON HEIGHTS                   63.7\n",
       "8              STRIP DISTRICT                   72.5\n",
       "9                   FAIRYWOOD                   53.3\n",
       "10                       HAYS                   78.3\n",
       "11  MOUNT OLIVER NEIGHBORHOOD                   75.0\n",
       "12              EAST CARNEGIE                   80.0\n",
       "13              REGENT SQUARE                   76.7\n",
       "14       CALIFORNIA-KIRKBRIDE                   69.3\n",
       "15             CHARTIERS CITY                   76.9\n",
       "16                 FRIENDSHIP                   71.1\n",
       "17                      BLUFF                   70.0\n",
       "18           ALLEGHENY CENTER                   81.7\n",
       "19                    BON AIR                   78.5"
      ]
     },
     "execution_count": 86,
     "metadata": {},
     "output_type": "execute_result"
    }
   ],
   "source": [
    "import pandas as pd\n",
    "import importlib\n",
    "import matplotlib.pyplot as plt\n",
    "\n",
    "\n",
    "pd.set_option('display.max_rows', None)\n",
    "pd.set_option('display.max_columns', None)\n",
    "pd.set_option('display.width', None)\n",
    "\n",
    "\n",
    "ds = pd.read_csv(\"Median Age At Death.csv\", usecols = ['NEIGHBORHOOD','TOTAL MD AGE AT DEATH'])\n",
    "ds.head(20)"
   ]
  },
  {
   "cell_type": "markdown",
   "metadata": {},
   "source": [
    "<b>Next, lets find the lowest median age at death.<b>"
   ]
  },
  {
   "cell_type": "code",
   "execution_count": 87,
   "metadata": {},
   "outputs": [
    {
     "data": {
      "text/plain": [
       "0.0"
      ]
     },
     "execution_count": 87,
     "metadata": {},
     "output_type": "execute_result"
    }
   ],
   "source": [
    "ds['TOTAL MD AGE AT DEATH']. min()"
   ]
  },
  {
   "cell_type": "markdown",
   "metadata": {},
   "source": [
    "<b> Obviosuly we cannot use 0 as the lowest Median age at death, therefore we must find the second lowest median age at death. <b>"
   ]
  },
  {
   "cell_type": "code",
   "execution_count": 88,
   "metadata": {},
   "outputs": [
    {
     "data": {
      "text/html": [
       "<div>\n",
       "<style scoped>\n",
       "    .dataframe tbody tr th:only-of-type {\n",
       "        vertical-align: middle;\n",
       "    }\n",
       "\n",
       "    .dataframe tbody tr th {\n",
       "        vertical-align: top;\n",
       "    }\n",
       "\n",
       "    .dataframe thead th {\n",
       "        text-align: right;\n",
       "    }\n",
       "</style>\n",
       "<table border=\"1\" class=\"dataframe\">\n",
       "  <thead>\n",
       "    <tr style=\"text-align: right;\">\n",
       "      <th></th>\n",
       "      <th>NEIGHBORHOOD</th>\n",
       "      <th>TOTAL MD AGE AT DEATH</th>\n",
       "    </tr>\n",
       "  </thead>\n",
       "  <tbody>\n",
       "    <tr>\n",
       "      <th>0</th>\n",
       "      <td>SOUTH SHORE</td>\n",
       "      <td>0.0</td>\n",
       "    </tr>\n",
       "    <tr>\n",
       "      <th>9</th>\n",
       "      <td>FAIRYWOOD</td>\n",
       "      <td>53.3</td>\n",
       "    </tr>\n",
       "    <tr>\n",
       "      <th>7</th>\n",
       "      <td>ARLINGTON HEIGHTS</td>\n",
       "      <td>63.7</td>\n",
       "    </tr>\n",
       "    <tr>\n",
       "      <th>3</th>\n",
       "      <td>ALLEGHENY WEST</td>\n",
       "      <td>65.0</td>\n",
       "    </tr>\n",
       "    <tr>\n",
       "      <th>49</th>\n",
       "      <td>EAST ALLEGHENY</td>\n",
       "      <td>66.2</td>\n",
       "    </tr>\n",
       "    <tr>\n",
       "      <th>42</th>\n",
       "      <td>ALLENTOWN</td>\n",
       "      <td>66.5</td>\n",
       "    </tr>\n",
       "    <tr>\n",
       "      <th>38</th>\n",
       "      <td>MANCHESTER</td>\n",
       "      <td>67.4</td>\n",
       "    </tr>\n",
       "    <tr>\n",
       "      <th>4</th>\n",
       "      <td>SAINT CLAIR</td>\n",
       "      <td>67.5</td>\n",
       "    </tr>\n",
       "    <tr>\n",
       "      <th>22</th>\n",
       "      <td>NORTHVIEW HEIGHTS</td>\n",
       "      <td>68.0</td>\n",
       "    </tr>\n",
       "    <tr>\n",
       "      <th>14</th>\n",
       "      <td>CALIFORNIA-KIRKBRIDE</td>\n",
       "      <td>69.3</td>\n",
       "    </tr>\n",
       "  </tbody>\n",
       "</table>\n",
       "</div>"
      ],
      "text/plain": [
       "            NEIGHBORHOOD  TOTAL MD AGE AT DEATH\n",
       "0            SOUTH SHORE                    0.0\n",
       "9              FAIRYWOOD                   53.3\n",
       "7      ARLINGTON HEIGHTS                   63.7\n",
       "3         ALLEGHENY WEST                   65.0\n",
       "49        EAST ALLEGHENY                   66.2\n",
       "42             ALLENTOWN                   66.5\n",
       "38            MANCHESTER                   67.4\n",
       "4            SAINT CLAIR                   67.5\n",
       "22     NORTHVIEW HEIGHTS                   68.0\n",
       "14  CALIFORNIA-KIRKBRIDE                   69.3"
      ]
     },
     "execution_count": 88,
     "metadata": {},
     "output_type": "execute_result"
    }
   ],
   "source": [
    "ds.nsmallest(10, ['TOTAL MD AGE AT DEATH'])\n"
   ]
  },
  {
   "cell_type": "markdown",
   "metadata": {},
   "source": [
    "### There we have it, the best neighboorhood to live in based on this metric is Fairywood, Pittsburgh\n",
    "\n",
    "Now that we have detrimened this, lets have some fun with the data.\n",
    "First, let's convert the nice table above into an even nicer bar graph"
   ]
  },
  {
   "cell_type": "code",
   "execution_count": 89,
   "metadata": {},
   "outputs": [
    {
     "data": {
      "text/plain": [
       "<matplotlib.axes._subplots.AxesSubplot at 0x7f843a95b400>"
      ]
     },
     "execution_count": 89,
     "metadata": {},
     "output_type": "execute_result"
    },
    {
     "data": {
      "image/png": "[encoded data removed]",
      "text/plain": [
       "<Figure size 432x288 with 1 Axes>"
      ]
     },
     "metadata": {
      "needs_background": "light"
     },
     "output_type": "display_data"
    }
   ],
   "source": [
    "ds.plot.barh(x='NEIGHBORHOOD',\n",
    "            y='TOTAL MD AGE AT DEATH')"
   ]
  },
  {
   "cell_type": "markdown",
   "metadata": {},
   "source": [
    "Thats kind of ugly, the problem is we have too many neighborhoods in our list. Lets condense this list so it only displays he lowest 15 median ages at death."
   ]
  },
  {
   "cell_type": "code",
   "execution_count": 90,
   "metadata": {},
   "outputs": [
    {
     "data": {
      "text/html": [
       "<div>\n",
       "<style scoped>\n",
       "    .dataframe tbody tr th:only-of-type {\n",
       "        vertical-align: middle;\n",
       "    }\n",
       "\n",
       "    .dataframe tbody tr th {\n",
       "        vertical-align: top;\n",
       "    }\n",
       "\n",
       "    .dataframe thead th {\n",
       "        text-align: right;\n",
       "    }\n",
       "</style>\n",
       "<table border=\"1\" class=\"dataframe\">\n",
       "  <thead>\n",
       "    <tr style=\"text-align: right;\">\n",
       "      <th></th>\n",
       "      <th>NEIGHBORHOOD</th>\n",
       "      <th>TOTAL MD AGE AT DEATH</th>\n",
       "    </tr>\n",
       "  </thead>\n",
       "  <tbody>\n",
       "    <tr>\n",
       "      <th>0</th>\n",
       "      <td>SOUTH SHORE</td>\n",
       "      <td>0.0</td>\n",
       "    </tr>\n",
       "    <tr>\n",
       "      <th>1</th>\n",
       "      <td>CHATEAU</td>\n",
       "      <td>NaN</td>\n",
       "    </tr>\n",
       "    <tr>\n",
       "      <th>2</th>\n",
       "      <td>NORTH SHORE</td>\n",
       "      <td>80.0</td>\n",
       "    </tr>\n",
       "    <tr>\n",
       "      <th>3</th>\n",
       "      <td>ALLEGHENY WEST</td>\n",
       "      <td>65.0</td>\n",
       "    </tr>\n",
       "    <tr>\n",
       "      <th>4</th>\n",
       "      <td>SAINT CLAIR</td>\n",
       "      <td>67.5</td>\n",
       "    </tr>\n",
       "    <tr>\n",
       "      <th>5</th>\n",
       "      <td>WEST END</td>\n",
       "      <td>77.5</td>\n",
       "    </tr>\n",
       "    <tr>\n",
       "      <th>6</th>\n",
       "      <td>ESPLEN</td>\n",
       "      <td>71.7</td>\n",
       "    </tr>\n",
       "    <tr>\n",
       "      <th>7</th>\n",
       "      <td>ARLINGTON HEIGHTS</td>\n",
       "      <td>63.7</td>\n",
       "    </tr>\n",
       "    <tr>\n",
       "      <th>8</th>\n",
       "      <td>STRIP DISTRICT</td>\n",
       "      <td>72.5</td>\n",
       "    </tr>\n",
       "    <tr>\n",
       "      <th>9</th>\n",
       "      <td>FAIRYWOOD</td>\n",
       "      <td>53.3</td>\n",
       "    </tr>\n",
       "    <tr>\n",
       "      <th>10</th>\n",
       "      <td>HAYS</td>\n",
       "      <td>78.3</td>\n",
       "    </tr>\n",
       "    <tr>\n",
       "      <th>11</th>\n",
       "      <td>MOUNT OLIVER NEIGHBORHOOD</td>\n",
       "      <td>75.0</td>\n",
       "    </tr>\n",
       "    <tr>\n",
       "      <th>12</th>\n",
       "      <td>EAST CARNEGIE</td>\n",
       "      <td>80.0</td>\n",
       "    </tr>\n",
       "    <tr>\n",
       "      <th>13</th>\n",
       "      <td>REGENT SQUARE</td>\n",
       "      <td>76.7</td>\n",
       "    </tr>\n",
       "    <tr>\n",
       "      <th>14</th>\n",
       "      <td>CALIFORNIA-KIRKBRIDE</td>\n",
       "      <td>69.3</td>\n",
       "    </tr>\n",
       "  </tbody>\n",
       "</table>\n",
       "</div>"
      ],
      "text/plain": [
       "                 NEIGHBORHOOD  TOTAL MD AGE AT DEATH\n",
       "0                 SOUTH SHORE                    0.0\n",
       "1                     CHATEAU                    NaN\n",
       "2                 NORTH SHORE                   80.0\n",
       "3              ALLEGHENY WEST                   65.0\n",
       "4                 SAINT CLAIR                   67.5\n",
       "5                    WEST END                   77.5\n",
       "6                      ESPLEN                   71.7\n",
       "7           ARLINGTON HEIGHTS                   63.7\n",
       "8              STRIP DISTRICT                   72.5\n",
       "9                   FAIRYWOOD                   53.3\n",
       "10                       HAYS                   78.3\n",
       "11  MOUNT OLIVER NEIGHBORHOOD                   75.0\n",
       "12              EAST CARNEGIE                   80.0\n",
       "13              REGENT SQUARE                   76.7\n",
       "14       CALIFORNIA-KIRKBRIDE                   69.3"
      ]
     },
     "execution_count": 90,
     "metadata": {},
     "output_type": "execute_result"
    }
   ],
   "source": [
    "ds.sort_values('TOTAL MD AGE AT DEATH')\n",
    "\n",
    "ns=ds.head(15)\n",
    "ns"
   ]
  },
  {
   "cell_type": "markdown",
   "metadata": {},
   "source": [
    "Now, let's make a new bar graph that *actually* looks good"
   ]
  },
  {
   "cell_type": "code",
   "execution_count": 91,
   "metadata": {},
   "outputs": [
    {
     "data": {
      "text/plain": [
       "<matplotlib.axes._subplots.AxesSubplot at 0x7f843ab630a0>"
      ]
     },
     "execution_count": 91,
     "metadata": {},
     "output_type": "execute_result"
    },
    {
     "data": {
      "image/png": "[encoded data removed]",
      "text/plain": [
       "<Figure size 432x288 with 1 Axes>"
      ]
     },
     "metadata": {
      "needs_background": "light"
     },
     "output_type": "display_data"
    }
   ],
   "source": [
    "ns.plot.barh(x='NEIGHBORHOOD',\n",
    "            y='TOTAL MD AGE AT DEATH')"
   ]
  },
  {
   "cell_type": "markdown",
   "metadata": {},
   "source": [
    "Much better. I'm running out of ways to do to manipulate this data, so lets find the average of this new dataset because why not. First we need to drop the top two neighborhoods in the dataset because they are 0 and NaN respectivly, which will inevitably mess up the calculation"
   ]
  },
  {
   "cell_type": "code",
   "execution_count": 92,
   "metadata": {},
   "outputs": [
    {
     "data": {
      "text/html": [
       "<div>\n",
       "<style scoped>\n",
       "    .dataframe tbody tr th:only-of-type {\n",
       "        vertical-align: middle;\n",
       "    }\n",
       "\n",
       "    .dataframe tbody tr th {\n",
       "        vertical-align: top;\n",
       "    }\n",
       "\n",
       "    .dataframe thead th {\n",
       "        text-align: right;\n",
       "    }\n",
       "</style>\n",
       "<table border=\"1\" class=\"dataframe\">\n",
       "  <thead>\n",
       "    <tr style=\"text-align: right;\">\n",
       "      <th></th>\n",
       "      <th>NEIGHBORHOOD</th>\n",
       "      <th>TOTAL MD AGE AT DEATH</th>\n",
       "    </tr>\n",
       "  </thead>\n",
       "  <tbody>\n",
       "    <tr>\n",
       "      <th>2</th>\n",
       "      <td>NORTH SHORE</td>\n",
       "      <td>80.0</td>\n",
       "    </tr>\n",
       "    <tr>\n",
       "      <th>3</th>\n",
       "      <td>ALLEGHENY WEST</td>\n",
       "      <td>65.0</td>\n",
       "    </tr>\n",
       "    <tr>\n",
       "      <th>4</th>\n",
       "      <td>SAINT CLAIR</td>\n",
       "      <td>67.5</td>\n",
       "    </tr>\n",
       "    <tr>\n",
       "      <th>5</th>\n",
       "      <td>WEST END</td>\n",
       "      <td>77.5</td>\n",
       "    </tr>\n",
       "    <tr>\n",
       "      <th>6</th>\n",
       "      <td>ESPLEN</td>\n",
       "      <td>71.7</td>\n",
       "    </tr>\n",
       "    <tr>\n",
       "      <th>7</th>\n",
       "      <td>ARLINGTON HEIGHTS</td>\n",
       "      <td>63.7</td>\n",
       "    </tr>\n",
       "    <tr>\n",
       "      <th>8</th>\n",
       "      <td>STRIP DISTRICT</td>\n",
       "      <td>72.5</td>\n",
       "    </tr>\n",
       "    <tr>\n",
       "      <th>9</th>\n",
       "      <td>FAIRYWOOD</td>\n",
       "      <td>53.3</td>\n",
       "    </tr>\n",
       "    <tr>\n",
       "      <th>10</th>\n",
       "      <td>HAYS</td>\n",
       "      <td>78.3</td>\n",
       "    </tr>\n",
       "    <tr>\n",
       "      <th>11</th>\n",
       "      <td>MOUNT OLIVER NEIGHBORHOOD</td>\n",
       "      <td>75.0</td>\n",
       "    </tr>\n",
       "    <tr>\n",
       "      <th>12</th>\n",
       "      <td>EAST CARNEGIE</td>\n",
       "      <td>80.0</td>\n",
       "    </tr>\n",
       "    <tr>\n",
       "      <th>13</th>\n",
       "      <td>REGENT SQUARE</td>\n",
       "      <td>76.7</td>\n",
       "    </tr>\n",
       "    <tr>\n",
       "      <th>14</th>\n",
       "      <td>CALIFORNIA-KIRKBRIDE</td>\n",
       "      <td>69.3</td>\n",
       "    </tr>\n",
       "  </tbody>\n",
       "</table>\n",
       "</div>"
      ],
      "text/plain": [
       "                 NEIGHBORHOOD  TOTAL MD AGE AT DEATH\n",
       "2                 NORTH SHORE                   80.0\n",
       "3              ALLEGHENY WEST                   65.0\n",
       "4                 SAINT CLAIR                   67.5\n",
       "5                    WEST END                   77.5\n",
       "6                      ESPLEN                   71.7\n",
       "7           ARLINGTON HEIGHTS                   63.7\n",
       "8              STRIP DISTRICT                   72.5\n",
       "9                   FAIRYWOOD                   53.3\n",
       "10                       HAYS                   78.3\n",
       "11  MOUNT OLIVER NEIGHBORHOOD                   75.0\n",
       "12              EAST CARNEGIE                   80.0\n",
       "13              REGENT SQUARE                   76.7\n",
       "14       CALIFORNIA-KIRKBRIDE                   69.3"
      ]
     },
     "execution_count": 92,
     "metadata": {},
     "output_type": "execute_result"
    }
   ],
   "source": [
    "ps=ns.drop([0,1])\n",
    "ps"
   ]
  },
  {
   "cell_type": "code",
   "execution_count": 93,
   "metadata": {},
   "outputs": [
    {
     "data": {
      "text/plain": [
       "TOTAL MD AGE AT DEATH    71.576923\n",
       "dtype: float64"
      ]
     },
     "execution_count": 93,
     "metadata": {},
     "output_type": "execute_result"
    }
   ],
   "source": [
    "ps[['TOTAL MD AGE AT DEATH']].mean(axis=0)"
   ]
  },
  {
   "cell_type": "markdown",
   "metadata": {},
   "source": [
    "**Conclusion of Dataset**"
   ]
  },
  {
   "cell_type": "markdown",
   "metadata": {},
   "source": [
    "Once again, there we have it. **The best neighboorhood is still Fairywood, Pittsburgh, with a median age of 53.3** and **the average of the lowest 15** *(technically 13)* **neighboorhoods is 71.58 years old**"
   ]
  },
  {
   "cell_type": "markdown",
   "metadata": {},
   "source": [
    "# Landslides"
   ]
  },
  {
   "cell_type": "markdown",
   "metadata": {},
   "source": [
    "### Approach and Metric\n",
    "\n",
    "Our group's approach was to find the best neighborhood depending on which would end our suffering of old age the quickest. We used various types of naturally-caused deaths, such as COVID-19 deaths and median age of death, as our metric to measure the overall safety of each neighborhood purely based on natural events. My submetric was landslide deaths, which proves relevant due to Pittsburgh's hilly geography. My dataset comes from a recent version of NASA's Cooperative Open Online Landslide Repository, updated in February 2021.\n",
    "\n",
    "### Coding Approach\n",
    "\n",
    "For my dataset in particular, I found that I was given no outright way in the dataset itself to identify which neighborhood landslides were occuring in, though I was given longitude and latitude coordinates. With these coordinates supplied to me, I decided to use geopy and the Nominatim API to reverse identify the given coordinates."
   ]
  },
  {
   "cell_type": "code",
   "execution_count": 40,
   "metadata": {},
   "outputs": [],
   "source": [
    "import pandas as pd\n",
    "from geopy.geocoders import Nominatim\n",
    "import geopandas as gpd\n",
    "%matplotlib inline\n",
    "import matplotlib.pyplot as plt\n",
    "geolocator = Nominatim(user_agent=\"geoapiExercises\")"
   ]
  },
  {
   "cell_type": "markdown",
   "metadata": {},
   "source": [
    "After being able to get the API imported and ready, I had to import the dataset and find a way to narrow down my searches. Because this was not a western PA specific dataset, it included over 11,000 entries from all over the world. Trying to narrow down by city name proved to be useless, as some neighboring towns were included when using a query mask for \"Pittsburgh\", and some entries didn't even include a city name. My solution to this was to create a query mask using the latitude and longitude values, finding the very edges of Pittsburgh to create a \"bounding box\" of sorts around the city."
   ]
  },
  {
   "cell_type": "code",
   "execution_count": 41,
   "metadata": {},
   "outputs": [],
   "source": [
    "nbddict = {}\n",
    "lssize = {}\n",
    "ls_data = pd.read_csv(\"globallandslides.csv\")\n",
    "latlon_mask = ls_data.loc[(ls_data['latitude']>=40.361107) & (ls_data['latitude']<=40.492077) & (ls_data['longitude']>=-80.096468) & (ls_data['longitude']<=-79.865034)]"
   ]
  },
  {
   "cell_type": "markdown",
   "metadata": {},
   "source": [
    "Of course, Pittsburgh itself isn't exactly in the shape of a square, but by creating this bounding box, the number of entries was lowered by a significant amount compared to the original 11,000. Here I also create two dictionaries that I will use later to store the data."
   ]
  },
  {
   "cell_type": "code",
   "execution_count": 42,
   "metadata": {},
   "outputs": [
    {
     "data": {
      "text/plain": [
       "47"
      ]
     },
     "execution_count": 42,
     "metadata": {},
     "output_type": "execute_result"
    }
   ],
   "source": [
    "len(latlon_mask)"
   ]
  },
  {
   "cell_type": "markdown",
   "metadata": {},
   "source": [
    "From here, we can then reverse geolocate every single remaining entry. The raw location gives us a full address, and transcribing it into a dictionary then lets every part of the address to be keyed, allowing us to then filter by city and print out the results including the neighborhood. All that's left from here is to fill the previously made two dictionaries, and to keep track of the appearances of each neighborhood, and the average size of the landslides in each neighborhood using numbered values."
   ]
  },
  {
   "cell_type": "code",
   "execution_count": 43,
   "metadata": {},
   "outputs": [
    {
     "name": "stdout",
     "output_type": "stream",
     "text": [
      "{'mount washington': 11, 'squirrel hill south': 3, 'greenfield': 3, 'lincoln-lemington-belmar': 2, 'elliott': 1, 'spring hill-city view': 1, 'spring garden': 1, 'bedford dwellings': 1, 'south side slopes': 2, 'strip district': 1, 'west end': 2, 'lincoln place': 1, 'westwood': 1, 'downtown': 1, 'perry north': 1, 'crafton heights': 1, 'duquesne heights': 2, 'troy hill': 1, 'beechview': 1, 'stanton heights': 1, 'four mile run': 1, 'carrick': 1, 'south oakland': 1}\n",
      "{'mount washington': 1.4545454545454546, 'squirrel hill south': 1.0, 'greenfield': 1.6666666666666667, 'lincoln-lemington-belmar': 1.5, 'elliott': 2.0, 'spring hill-city view': 2.0, 'spring garden': 1.0, 'bedford dwellings': 2.0, 'south side slopes': 1.5, 'strip district': 2.0, 'west end': 1.5, 'lincoln place': 2.0, 'westwood': 1.0, 'downtown': 1.0, 'perry north': 1.0, 'crafton heights': 2.0, 'duquesne heights': 1.0, 'troy hill': 1.0, 'beechview': 1.0, 'stanton heights': 2.0, 'four mile run': 2.0, 'carrick': 2.0, 'south oakland': 2.0}\n"
     ]
    }
   ],
   "source": [
    "for index, row in latlon_mask.iterrows():\n",
    "    fatalities = row['fatalities']\n",
    "    size = row['ls_size']\n",
    "    lat = row['latitude']\n",
    "    long = row['longitude']\n",
    "    location = geolocator.reverse(str(lat)+\",\"+str(long))\n",
    "    address = location.raw['address']\n",
    "    city = address.get('city', '')\n",
    "    neighbourhood = address.get('neighbourhood', '')\n",
    "    county = address.get('county', '')\n",
    "    if(city == \"Pittsburgh\" and fatalities != 'NaN'):\n",
    "        if neighbourhood.lower() in nbddict:\n",
    "            nbddict[neighbourhood.lower()] += 1\n",
    "        else:\n",
    "            nbddict[neighbourhood.lower()] = 1\n",
    "    if(city == \"Pittsburgh\" and fatalities != 'NaN' and size == 'small'):\n",
    "        if neighbourhood.lower() in lssize:\n",
    "            lssize[neighbourhood.lower()] += 1\n",
    "        else:\n",
    "            lssize[neighbourhood.lower()] = 1\n",
    "    if(city == \"Pittsburgh\" and fatalities != 'NaN' and size == 'medium'):\n",
    "        if neighbourhood.lower() in lssize:\n",
    "            lssize[neighbourhood.lower()] += 2\n",
    "        else:\n",
    "            lssize[neighbourhood.lower()] = 2\n",
    "    if(city == \"Pittsburgh\" and fatalities != 'NaN' and size == 'large'):\n",
    "        if neighbourhood.lower() in lssize:\n",
    "            lssize[neighbourhood.lower()] += 3\n",
    "        else:\n",
    "            lssize[neighbourhood.lower()] = 3\n",
    "for key in lssize:\n",
    "    lssize[key] = lssize[key] / nbddict[key]\n",
    "print(nbddict)\n",
    "print(lssize)"
   ]
  },
  {
   "cell_type": "markdown",
   "metadata": {},
   "source": [
    "Now that we have the data in dictionaries, all we need to do is format them into pandas DataFrames, and plot them out to visualize the data."
   ]
  },
  {
   "cell_type": "code",
   "execution_count": 44,
   "metadata": {},
   "outputs": [
    {
     "data": {
      "text/plain": [
       "<matplotlib.axes._subplots.AxesSubplot at 0x7f843bf260a0>"
      ]
     },
     "execution_count": 44,
     "metadata": {},
     "output_type": "execute_result"
    },
    {
     "data": {
      "image/png": "[encoded data removed]",
      "text/plain": [
       "<Figure size 432x288 with 1 Axes>"
      ]
     },
     "metadata": {
      "needs_background": "light"
     },
     "output_type": "display_data"
    }
   ],
   "source": [
    "df = pd.DataFrame.from_dict(nbddict, orient=\"index\")\n",
    "df.plot.bar()"
   ]
  },
  {
   "cell_type": "markdown",
   "metadata": {},
   "source": [
    "By looking at the resulting bar graph, we can see that Mount Washington stands out miles ahead the rest, with over triple the amount of landslide fatalities and injuries than any other neighborhood. A majority of them have a single recorded incident, while a handful have 2 or 3. Anything not in the resulting dataframe had no recoded landslides, and are thus equally safe."
   ]
  },
  {
   "cell_type": "code",
   "execution_count": 45,
   "metadata": {},
   "outputs": [
    {
     "data": {
      "text/plain": [
       "<matplotlib.axes._subplots.AxesSubplot at 0x7f843a616340>"
      ]
     },
     "execution_count": 45,
     "metadata": {},
     "output_type": "execute_result"
    },
    {
     "data": {
      "image/png": "[encoded data removed]",
      "text/plain": [
       "<Figure size 432x288 with 1 Axes>"
      ]
     },
     "metadata": {
      "needs_background": "light"
     },
     "output_type": "display_data"
    }
   ],
   "source": [
    "df2 = pd.DataFrame.from_dict(lssize, orient=\"index\")\n",
    "df2.plot.bar()"
   ]
  },
  {
   "cell_type": "markdown",
   "metadata": {},
   "source": [
    "Finally, this last graph shows the average intensity of all landslides that occurred, valuing a small one at 1, medium at 2, and large at 3. By totaling the values of each landslide for a given neighborhood, and then finding the mean, we get the average strength of a landslide in any given area, though due to the small dataset for most neighborhoods, they might not be a valid representation."
   ]
  },
  {
   "cell_type": "markdown",
   "metadata": {},
   "source": [
    "**Conclusion of Dataset**\n",
    "\n",
    "In conclusion, there are a good few neighborhoods in Pittsburgh that have no landslides on record, but some such as Greenfield, Squirrel Hill South, and especially Mount Washington have a relatively high frequency, with many other neighborhoods having high intensity ones rarely. Though, for me personally, my favorite neighborhood is Squirrel Hill North and South, so to see it be a standout dangerous neighborhood according to this metric is disappointing to say the least."
   ]
  },
  {
   "cell_type": "markdown",
   "metadata": {},
   "source": [
    "# Determining The Best Neighborhood Overall"
   ]
  },
  {
   "cell_type": "markdown",
   "metadata": {},
   "source": [
    "First, lets subtract the median age from the risk_of death, because high ages are worse off, so subtracting will take more away from the total."
   ]
  },
  {
   "cell_type": "code",
   "execution_count": 97,
   "metadata": {},
   "outputs": [
    {
     "data": {
      "text/html": [
       "<div>\n",
       "<style scoped>\n",
       "    .dataframe tbody tr th:only-of-type {\n",
       "        vertical-align: middle;\n",
       "    }\n",
       "\n",
       "    .dataframe tbody tr th {\n",
       "        vertical-align: top;\n",
       "    }\n",
       "\n",
       "    .dataframe thead th {\n",
       "        text-align: right;\n",
       "    }\n",
       "</style>\n",
       "<table border=\"1\" class=\"dataframe\">\n",
       "  <thead>\n",
       "    <tr style=\"text-align: right;\">\n",
       "      <th></th>\n",
       "      <th>neighborhood_municipality</th>\n",
       "      <th>infections</th>\n",
       "      <th>deaths</th>\n",
       "      <th>hospitalizations</th>\n",
       "      <th>risk_of_death</th>\n",
       "      <th>Total Md Age At Death</th>\n",
       "      <th>Total MD And Risk</th>\n",
       "    </tr>\n",
       "  </thead>\n",
       "  <tbody>\n",
       "    <tr>\n",
       "      <th>144</th>\n",
       "      <td>Penn Hills</td>\n",
       "      <td>8051</td>\n",
       "      <td>107</td>\n",
       "      <td>586</td>\n",
       "      <td>8744</td>\n",
       "      <td>NaN</td>\n",
       "      <td>8744</td>\n",
       "    </tr>\n",
       "    <tr>\n",
       "      <th>18</th>\n",
       "      <td>Bethel Park</td>\n",
       "      <td>7059</td>\n",
       "      <td>95</td>\n",
       "      <td>269</td>\n",
       "      <td>7423</td>\n",
       "      <td>81.7</td>\n",
       "      <td>7423</td>\n",
       "    </tr>\n",
       "    <tr>\n",
       "      <th>162</th>\n",
       "      <td>Ross</td>\n",
       "      <td>6471</td>\n",
       "      <td>137</td>\n",
       "      <td>349</td>\n",
       "      <td>6957</td>\n",
       "      <td>NaN</td>\n",
       "      <td>6957</td>\n",
       "    </tr>\n",
       "    <tr>\n",
       "      <th>122</th>\n",
       "      <td>Monroeville</td>\n",
       "      <td>6181</td>\n",
       "      <td>131</td>\n",
       "      <td>455</td>\n",
       "      <td>6767</td>\n",
       "      <td>NaN</td>\n",
       "      <td>6767</td>\n",
       "    </tr>\n",
       "    <tr>\n",
       "      <th>125</th>\n",
       "      <td>Mount Lebanon</td>\n",
       "      <td>6321</td>\n",
       "      <td>89</td>\n",
       "      <td>195</td>\n",
       "      <td>6605</td>\n",
       "      <td>NaN</td>\n",
       "      <td>6605</td>\n",
       "    </tr>\n",
       "    <tr>\n",
       "      <th>123</th>\n",
       "      <td>Moon</td>\n",
       "      <td>5667</td>\n",
       "      <td>53</td>\n",
       "      <td>184</td>\n",
       "      <td>5904</td>\n",
       "      <td>NaN</td>\n",
       "      <td>5904</td>\n",
       "    </tr>\n",
       "    <tr>\n",
       "      <th>169</th>\n",
       "      <td>Shaler</td>\n",
       "      <td>5493</td>\n",
       "      <td>52</td>\n",
       "      <td>258</td>\n",
       "      <td>5803</td>\n",
       "      <td>NaN</td>\n",
       "      <td>5803</td>\n",
       "    </tr>\n",
       "    <tr>\n",
       "      <th>151</th>\n",
       "      <td>Plum</td>\n",
       "      <td>5356</td>\n",
       "      <td>70</td>\n",
       "      <td>268</td>\n",
       "      <td>5694</td>\n",
       "      <td>NaN</td>\n",
       "      <td>5694</td>\n",
       "    </tr>\n",
       "    <tr>\n",
       "      <th>116</th>\n",
       "      <td>McCandless</td>\n",
       "      <td>5280</td>\n",
       "      <td>130</td>\n",
       "      <td>221</td>\n",
       "      <td>5631</td>\n",
       "      <td>NaN</td>\n",
       "      <td>5631</td>\n",
       "    </tr>\n",
       "    <tr>\n",
       "      <th>8</th>\n",
       "      <td>Baldwin Borough</td>\n",
       "      <td>5011</td>\n",
       "      <td>73</td>\n",
       "      <td>294</td>\n",
       "      <td>5378</td>\n",
       "      <td>72.5</td>\n",
       "      <td>5378</td>\n",
       "    </tr>\n",
       "  </tbody>\n",
       "</table>\n",
       "</div>"
      ],
      "text/plain": [
       "    neighborhood_municipality  infections  deaths  hospitalizations  \\\n",
       "144                Penn Hills        8051     107               586   \n",
       "18                Bethel Park        7059      95               269   \n",
       "162                      Ross        6471     137               349   \n",
       "122               Monroeville        6181     131               455   \n",
       "125             Mount Lebanon        6321      89               195   \n",
       "123                      Moon        5667      53               184   \n",
       "169                    Shaler        5493      52               258   \n",
       "151                      Plum        5356      70               268   \n",
       "116                McCandless        5280     130               221   \n",
       "8             Baldwin Borough        5011      73               294   \n",
       "\n",
       "     risk_of_death  Total Md Age At Death  Total MD And Risk  \n",
       "144           8744                    NaN               8744  \n",
       "18            7423                   81.7               7423  \n",
       "162           6957                    NaN               6957  \n",
       "122           6767                    NaN               6767  \n",
       "125           6605                    NaN               6605  \n",
       "123           5904                    NaN               5904  \n",
       "169           5803                    NaN               5803  \n",
       "151           5694                    NaN               5694  \n",
       "116           5631                    NaN               5631  \n",
       "8             5378                   72.5               5378  "
      ]
     },
     "execution_count": 97,
     "metadata": {},
     "output_type": "execute_result"
    }
   ],
   "source": [
    "highDeaths[\"Total Md Age At Death\"] = ds[\"TOTAL MD AGE AT DEATH\"]\n",
    "highDeaths[\"Total MD And Risk\"] = highDeaths[\"risk_of_death\"] \n",
    "\n",
    "highDeaths = highDeaths.sort_values(\"Total MD And Risk\",ascending = False).head(10)\n",
    "highDeaths"
   ]
  },
  {
   "cell_type": "code",
   "execution_count": 100,
   "metadata": {},
   "outputs": [
    {
     "data": {
      "text/plain": [
       "<matplotlib.axes._subplots.AxesSubplot at 0x7f843aa97cd0>"
      ]
     },
     "execution_count": 100,
     "metadata": {},
     "output_type": "execute_result"
    },
    {
     "data": {
      "image/png": "[encoded data removed]",
      "text/plain": [
       "<Figure size 432x288 with 1 Axes>"
      ]
     },
     "metadata": {
      "needs_background": "light"
     },
     "output_type": "display_data"
    }
   ],
   "source": [
    "highDeaths.plot(x = \"neighborhood_municipality\",y = \"Total MD And Risk\", kind = \"bar\")"
   ]
  },
  {
   "cell_type": "markdown",
   "metadata": {},
   "source": [
    "**Personal Conclusions:**"
   ]
  },
  {
   "cell_type": "markdown",
   "metadata": {},
   "source": [
    "Langston: Considering the risk_of_death counter was so high compared to the median age and landslides, I'm not surprised the top neighborhood is the same as my result from the covid dataset. However, it is very interesting to me that Penn Hills is number one. I grew up in Penn Hills and I never realized it was such a nice city. When I go back home after the semester I'll have to try and appreciate how lucky I am to grow up in Penn Hills."
   ]
  },
  {
   "cell_type": "markdown",
   "metadata": {},
   "source": [
    "Narek: I was not surprised to see Bethel Park and Penn Hills were the top two. Neither had any landslide data from my perspective, and as such were equally as safe, at least according to my data. I also wasn't surprised to see that some of the locations that had landslide data still appeared on the list. The landslide data was very skewed towards a couple of prominent locations and had very little impact on most of the neighborhoods. In comparison, Mount Washington alone made up close to a quarter of the data for landslides, while at most any other data point had a third to a quarter of the number of landslides."
   ]
  },
  {
   "cell_type": "markdown",
   "metadata": {},
   "source": [
    "Tyler: I was not surprised to see Bethel Park and Penn Hills were the top two. Neither had any landslide data from my perspective, and as such were equally as safe, at least according to my data. I also wasn't surprised to see that some of the locations that had landslide data still appeared on the list. The landslide data was very skewed towards a couple of prominent locations and had very little impact on most of the neighborhoods. In comparison, Mount Washington alone made up close to a quarter of the data for landslides, while at most any other data point had a third to a quarter of the number of landslides."
   ]
  },
  {
   "cell_type": "code",
   "execution_count": null,
   "metadata": {},
   "outputs": [],
   "source": []
  }
 ],
 "metadata": {
  "kernelspec": {
   "display_name": "Python 3",
   "language": "python",
   "name": "python3"
  },
  "language_info": {
   "codemirror_mode": {
    "name": "ipython",
    "version": 3
   },
   "file_extension": ".py",
   "mimetype": "text/x-python",
   "name": "python",
   "nbconvert_exporter": "python",
   "pygments_lexer": "ipython3",
   "version": "3.8.3"
  }
 },
 "nbformat": 4,
 "nbformat_minor": 4
}
