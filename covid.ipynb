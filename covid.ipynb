{
 "cells": [
  {
   "cell_type": "markdown",
   "metadata": {},
   "source": [
    "Chance of Sickness:\n",
    "\n",
    "I chose to analyze covid cases to determine which neighborhood had the highest number of deaths due to infection. My dataset is all reported cases up to March 28th 2022 in Pittsburgh neighborhoods. "
   ]
  },
  {
   "cell_type": "code",
   "execution_count": 2,
   "metadata": {},
   "outputs": [
    {
     "data": {
      "text/html": [
       "<div>\n",
       "<style scoped>\n",
       "    .dataframe tbody tr th:only-of-type {\n",
       "        vertical-align: middle;\n",
       "    }\n",
       "\n",
       "    .dataframe tbody tr th {\n",
       "        vertical-align: top;\n",
       "    }\n",
       "\n",
       "    .dataframe thead th {\n",
       "        text-align: right;\n",
       "    }\n",
       "</style>\n",
       "<table border=\"1\" class=\"dataframe\">\n",
       "  <thead>\n",
       "    <tr style=\"text-align: right;\">\n",
       "      <th></th>\n",
       "      <th>infections</th>\n",
       "      <th>deaths</th>\n",
       "      <th>hospitalizations</th>\n",
       "    </tr>\n",
       "    <tr>\n",
       "      <th>neighborhood_municipality</th>\n",
       "      <th></th>\n",
       "      <th></th>\n",
       "      <th></th>\n",
       "    </tr>\n",
       "  </thead>\n",
       "  <tbody>\n",
       "    <tr>\n",
       "      <th>Aleppo</th>\n",
       "      <td>1</td>\n",
       "      <td>1</td>\n",
       "      <td>1</td>\n",
       "    </tr>\n",
       "    <tr>\n",
       "      <th>Allegheny Center (Pittsburgh)</th>\n",
       "      <td>1</td>\n",
       "      <td>1</td>\n",
       "      <td>1</td>\n",
       "    </tr>\n",
       "    <tr>\n",
       "      <th>Allegheny West (Pittsburgh)</th>\n",
       "      <td>1</td>\n",
       "      <td>1</td>\n",
       "      <td>1</td>\n",
       "    </tr>\n",
       "    <tr>\n",
       "      <th>Allentown (Pittsburgh)</th>\n",
       "      <td>1</td>\n",
       "      <td>1</td>\n",
       "      <td>1</td>\n",
       "    </tr>\n",
       "    <tr>\n",
       "      <th>Arlington (Pittsburgh)</th>\n",
       "      <td>1</td>\n",
       "      <td>1</td>\n",
       "      <td>1</td>\n",
       "    </tr>\n",
       "    <tr>\n",
       "      <th>...</th>\n",
       "      <td>...</td>\n",
       "      <td>...</td>\n",
       "      <td>...</td>\n",
       "    </tr>\n",
       "    <tr>\n",
       "      <th>Whitehall</th>\n",
       "      <td>1</td>\n",
       "      <td>1</td>\n",
       "      <td>1</td>\n",
       "    </tr>\n",
       "    <tr>\n",
       "      <th>Wilkins</th>\n",
       "      <td>1</td>\n",
       "      <td>1</td>\n",
       "      <td>1</td>\n",
       "    </tr>\n",
       "    <tr>\n",
       "      <th>Wilkinsburg</th>\n",
       "      <td>1</td>\n",
       "      <td>1</td>\n",
       "      <td>1</td>\n",
       "    </tr>\n",
       "    <tr>\n",
       "      <th>Wilmerding</th>\n",
       "      <td>1</td>\n",
       "      <td>1</td>\n",
       "      <td>1</td>\n",
       "    </tr>\n",
       "    <tr>\n",
       "      <th>Windgap (Pittsburgh)</th>\n",
       "      <td>1</td>\n",
       "      <td>1</td>\n",
       "      <td>1</td>\n",
       "    </tr>\n",
       "  </tbody>\n",
       "</table>\n",
       "<p>221 rows × 3 columns</p>\n",
       "</div>"
      ],
      "text/plain": [
       "                               infections  deaths  hospitalizations\n",
       "neighborhood_municipality                                          \n",
       "Aleppo                                  1       1                 1\n",
       "Allegheny Center (Pittsburgh)           1       1                 1\n",
       "Allegheny West (Pittsburgh)             1       1                 1\n",
       "Allentown (Pittsburgh)                  1       1                 1\n",
       "Arlington (Pittsburgh)                  1       1                 1\n",
       "...                                   ...     ...               ...\n",
       "Whitehall                               1       1                 1\n",
       "Wilkins                                 1       1                 1\n",
       "Wilkinsburg                             1       1                 1\n",
       "Wilmerding                              1       1                 1\n",
       "Windgap (Pittsburgh)                    1       1                 1\n",
       "\n",
       "[221 rows x 3 columns]"
      ]
     },
     "execution_count": 2,
     "metadata": {},
     "output_type": "execute_result"
    }
   ],
   "source": [
    "import pandas as pd\n",
    "import numpy as np\n",
    "%matplotlib inline\n",
    "\n",
    "cov = pd.read_csv(\"CovidCases.csv\",usecols = ['neighborhood_municipality','infections','deaths','hospitalizations'])\n",
    "\n",
    "cov.groupby('neighborhood_municipality').count()"
   ]
  },
  {
   "cell_type": "code",
   "execution_count": null,
   "metadata": {},
   "outputs": [],
   "source": []
  },
  {
   "cell_type": "code",
   "execution_count": 3,
   "metadata": {},
   "outputs": [
    {
     "data": {
      "text/html": [
       "<div>\n",
       "<style scoped>\n",
       "    .dataframe tbody tr th:only-of-type {\n",
       "        vertical-align: middle;\n",
       "    }\n",
       "\n",
       "    .dataframe tbody tr th {\n",
       "        vertical-align: top;\n",
       "    }\n",
       "\n",
       "    .dataframe thead th {\n",
       "        text-align: right;\n",
       "    }\n",
       "</style>\n",
       "<table border=\"1\" class=\"dataframe\">\n",
       "  <thead>\n",
       "    <tr style=\"text-align: right;\">\n",
       "      <th></th>\n",
       "      <th>neighborhood_municipality</th>\n",
       "      <th>infections</th>\n",
       "      <th>deaths</th>\n",
       "      <th>hospitalizations</th>\n",
       "    </tr>\n",
       "  </thead>\n",
       "  <tbody>\n",
       "    <tr>\n",
       "      <th>162</th>\n",
       "      <td>Ross</td>\n",
       "      <td>6471</td>\n",
       "      <td>137</td>\n",
       "      <td>349</td>\n",
       "    </tr>\n",
       "    <tr>\n",
       "      <th>122</th>\n",
       "      <td>Monroeville</td>\n",
       "      <td>6181</td>\n",
       "      <td>131</td>\n",
       "      <td>455</td>\n",
       "    </tr>\n",
       "    <tr>\n",
       "      <th>116</th>\n",
       "      <td>McCandless</td>\n",
       "      <td>5280</td>\n",
       "      <td>130</td>\n",
       "      <td>221</td>\n",
       "    </tr>\n",
       "    <tr>\n",
       "      <th>144</th>\n",
       "      <td>Penn Hills</td>\n",
       "      <td>8051</td>\n",
       "      <td>107</td>\n",
       "      <td>586</td>\n",
       "    </tr>\n",
       "    <tr>\n",
       "      <th>119</th>\n",
       "      <td>McKeesport</td>\n",
       "      <td>4260</td>\n",
       "      <td>106</td>\n",
       "      <td>438</td>\n",
       "    </tr>\n",
       "    <tr>\n",
       "      <th>18</th>\n",
       "      <td>Bethel Park</td>\n",
       "      <td>7059</td>\n",
       "      <td>95</td>\n",
       "      <td>269</td>\n",
       "    </tr>\n",
       "    <tr>\n",
       "      <th>125</th>\n",
       "      <td>Mount Lebanon</td>\n",
       "      <td>6321</td>\n",
       "      <td>89</td>\n",
       "      <td>195</td>\n",
       "    </tr>\n",
       "    <tr>\n",
       "      <th>164</th>\n",
       "      <td>Scott</td>\n",
       "      <td>3761</td>\n",
       "      <td>83</td>\n",
       "      <td>146</td>\n",
       "    </tr>\n",
       "    <tr>\n",
       "      <th>8</th>\n",
       "      <td>Baldwin Borough</td>\n",
       "      <td>5011</td>\n",
       "      <td>73</td>\n",
       "      <td>294</td>\n",
       "    </tr>\n",
       "    <tr>\n",
       "      <th>151</th>\n",
       "      <td>Plum</td>\n",
       "      <td>5356</td>\n",
       "      <td>70</td>\n",
       "      <td>268</td>\n",
       "    </tr>\n",
       "  </tbody>\n",
       "</table>\n",
       "</div>"
      ],
      "text/plain": [
       "    neighborhood_municipality  infections  deaths  hospitalizations\n",
       "162                      Ross        6471     137               349\n",
       "122               Monroeville        6181     131               455\n",
       "116                McCandless        5280     130               221\n",
       "144                Penn Hills        8051     107               586\n",
       "119                McKeesport        4260     106               438\n",
       "18                Bethel Park        7059      95               269\n",
       "125             Mount Lebanon        6321      89               195\n",
       "164                     Scott        3761      83               146\n",
       "8             Baldwin Borough        5011      73               294\n",
       "151                      Plum        5356      70               268"
      ]
     },
     "execution_count": 3,
     "metadata": {},
     "output_type": "execute_result"
    }
   ],
   "source": [
    "highDeaths = cov.nlargest(20,['deaths'])\n",
    "\n",
    "highDeaths.head(10)"
   ]
  },
  {
   "cell_type": "code",
   "execution_count": 4,
   "metadata": {},
   "outputs": [
    {
     "data": {
      "text/plain": [
       "<matplotlib.axes._subplots.AxesSubplot at 0x7f9148deb880>"
      ]
     },
     "execution_count": 4,
     "metadata": {},
     "output_type": "execute_result"
    },
    {
     "data": {
      "image/png": "[encoded data removed]",
      "text/plain": [
       "<Figure size 432x288 with 1 Axes>"
      ]
     },
     "metadata": {
      "needs_background": "light"
     },
     "output_type": "display_data"
    }
   ],
   "source": [
    "highDeaths.plot(x = 'neighborhood_municipality',y = 'deaths', kind = 'bar')"
   ]
  },
  {
   "cell_type": "code",
   "execution_count": 6,
   "metadata": {},
   "outputs": [
    {
     "data": {
      "text/html": [
       "<div>\n",
       "<style scoped>\n",
       "    .dataframe tbody tr th:only-of-type {\n",
       "        vertical-align: middle;\n",
       "    }\n",
       "\n",
       "    .dataframe tbody tr th {\n",
       "        vertical-align: top;\n",
       "    }\n",
       "\n",
       "    .dataframe thead th {\n",
       "        text-align: right;\n",
       "    }\n",
       "</style>\n",
       "<table border=\"1\" class=\"dataframe\">\n",
       "  <thead>\n",
       "    <tr style=\"text-align: right;\">\n",
       "      <th></th>\n",
       "      <th>neighborhood_municipality</th>\n",
       "      <th>infections</th>\n",
       "      <th>deaths</th>\n",
       "      <th>hospitalizations</th>\n",
       "      <th>risk_of_death</th>\n",
       "    </tr>\n",
       "  </thead>\n",
       "  <tbody>\n",
       "    <tr>\n",
       "      <th>144</th>\n",
       "      <td>Penn Hills</td>\n",
       "      <td>8051</td>\n",
       "      <td>107</td>\n",
       "      <td>586</td>\n",
       "      <td>8744</td>\n",
       "    </tr>\n",
       "    <tr>\n",
       "      <th>18</th>\n",
       "      <td>Bethel Park</td>\n",
       "      <td>7059</td>\n",
       "      <td>95</td>\n",
       "      <td>269</td>\n",
       "      <td>7423</td>\n",
       "    </tr>\n",
       "    <tr>\n",
       "      <th>162</th>\n",
       "      <td>Ross</td>\n",
       "      <td>6471</td>\n",
       "      <td>137</td>\n",
       "      <td>349</td>\n",
       "      <td>6957</td>\n",
       "    </tr>\n",
       "    <tr>\n",
       "      <th>122</th>\n",
       "      <td>Monroeville</td>\n",
       "      <td>6181</td>\n",
       "      <td>131</td>\n",
       "      <td>455</td>\n",
       "      <td>6767</td>\n",
       "    </tr>\n",
       "    <tr>\n",
       "      <th>125</th>\n",
       "      <td>Mount Lebanon</td>\n",
       "      <td>6321</td>\n",
       "      <td>89</td>\n",
       "      <td>195</td>\n",
       "      <td>6605</td>\n",
       "    </tr>\n",
       "    <tr>\n",
       "      <th>123</th>\n",
       "      <td>Moon</td>\n",
       "      <td>5667</td>\n",
       "      <td>53</td>\n",
       "      <td>184</td>\n",
       "      <td>5904</td>\n",
       "    </tr>\n",
       "    <tr>\n",
       "      <th>169</th>\n",
       "      <td>Shaler</td>\n",
       "      <td>5493</td>\n",
       "      <td>52</td>\n",
       "      <td>258</td>\n",
       "      <td>5803</td>\n",
       "    </tr>\n",
       "    <tr>\n",
       "      <th>151</th>\n",
       "      <td>Plum</td>\n",
       "      <td>5356</td>\n",
       "      <td>70</td>\n",
       "      <td>268</td>\n",
       "      <td>5694</td>\n",
       "    </tr>\n",
       "    <tr>\n",
       "      <th>116</th>\n",
       "      <td>McCandless</td>\n",
       "      <td>5280</td>\n",
       "      <td>130</td>\n",
       "      <td>221</td>\n",
       "      <td>5631</td>\n",
       "    </tr>\n",
       "    <tr>\n",
       "      <th>8</th>\n",
       "      <td>Baldwin Borough</td>\n",
       "      <td>5011</td>\n",
       "      <td>73</td>\n",
       "      <td>294</td>\n",
       "      <td>5378</td>\n",
       "    </tr>\n",
       "  </tbody>\n",
       "</table>\n",
       "</div>"
      ],
      "text/plain": [
       "    neighborhood_municipality  infections  deaths  hospitalizations  \\\n",
       "144                Penn Hills        8051     107               586   \n",
       "18                Bethel Park        7059      95               269   \n",
       "162                      Ross        6471     137               349   \n",
       "122               Monroeville        6181     131               455   \n",
       "125             Mount Lebanon        6321      89               195   \n",
       "123                      Moon        5667      53               184   \n",
       "169                    Shaler        5493      52               258   \n",
       "151                      Plum        5356      70               268   \n",
       "116                McCandless        5280     130               221   \n",
       "8             Baldwin Borough        5011      73               294   \n",
       "\n",
       "     risk_of_death  \n",
       "144           8744  \n",
       "18            7423  \n",
       "162           6957  \n",
       "122           6767  \n",
       "125           6605  \n",
       "123           5904  \n",
       "169           5803  \n",
       "151           5694  \n",
       "116           5631  \n",
       "8             5378  "
      ]
     },
     "execution_count": 6,
     "metadata": {},
     "output_type": "execute_result"
    }
   ],
   "source": [
    "totalRisk = highDeaths['infections'] + highDeaths['hospitalizations'] + highDeaths['deaths']\n",
    "\n",
    "highDeaths['risk_of_death'] = totalRisk\n",
    "\n",
    "highDeaths = highDeaths.sort_values('risk_of_death',ascending = False).head(10)\n",
    "\n",
    "highDeaths"
   ]
  },
  {
   "cell_type": "code",
   "execution_count": 7,
   "metadata": {},
   "outputs": [
    {
     "data": {
      "text/plain": [
       "<matplotlib.axes._subplots.AxesSubplot at 0x7f91467f8370>"
      ]
     },
     "execution_count": 7,
     "metadata": {},
     "output_type": "execute_result"
    },
    {
     "data": {
      "image/png": "[encoded data removed]",
      "text/plain": [
       "<Figure size 432x288 with 1 Axes>"
      ]
     },
     "metadata": {
      "needs_background": "light"
     },
     "output_type": "display_data"
    }
   ],
   "source": [
    "risk_counter = pd.DataFrame(highDeaths, columns = ['neighborhood_municipality','risk_of_death'])\n",
    "risk_counter.plot(x = 'neighborhood_municipality',y= 'risk_of_death',kind = 'bar')"
   ]
  },
  {
   "cell_type": "code",
   "execution_count": 9,
   "metadata": {},
   "outputs": [
    {
     "data": {
      "text/plain": [
       "<matplotlib.axes._subplots.AxesSubplot at 0x7f91466e4b50>"
      ]
     },
     "execution_count": 9,
     "metadata": {},
     "output_type": "execute_result"
    },
    {
     "data": {
      "image/png": "[encoded data removed]",
      "text/plain": [
       "<Figure size 432x288 with 1 Axes>"
      ]
     },
     "metadata": {
      "needs_background": "light"
     },
     "output_type": "display_data"
    }
   ],
   "source": [
    "risk_counter.plot(x = 'risk_of_death',y= 'neighborhood_municipality',kind = 'scatter')"
   ]
  },
  {
   "cell_type": "code",
   "execution_count": null,
   "metadata": {},
   "outputs": [],
   "source": []
  }
 ],
 "metadata": {
  "kernelspec": {
   "display_name": "Python 3",
   "language": "python",
   "name": "python3"
  },
  "language_info": {
   "codemirror_mode": {
    "name": "ipython",
    "version": 3
   },
   "file_extension": ".py",
   "mimetype": "text/x-python",
   "name": "python",
   "nbconvert_exporter": "python",
   "pygments_lexer": "ipython3",
   "version": "3.8.3"
  }
 },
 "nbformat": 4,
 "nbformat_minor": 4
}
